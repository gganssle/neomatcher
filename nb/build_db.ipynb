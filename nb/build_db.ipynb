{
 "cells": [
  {
   "cell_type": "code",
   "execution_count": 1,
   "metadata": {
    "collapsed": false
   },
   "outputs": [],
   "source": [
    "from py2neo import Graph, Path\n",
    "import numpy as np\n",
    "import pandas as pd"
   ]
  },
  {
   "cell_type": "code",
   "execution_count": 2,
   "metadata": {
    "collapsed": true
   },
   "outputs": [],
   "source": [
    "graph = Graph('http://localhost:7474/')"
   ]
  },
  {
   "cell_type": "code",
   "execution_count": 16,
   "metadata": {
    "collapsed": false
   },
   "outputs": [],
   "source": [
    "with open('../dat/output_edges.csv', 'r') as f:\n",
    "    raw_edges = f.read().splitlines()\n",
    "    \n",
    "edge_arr = np.zeros((len(raw_edges), 2))\n",
    "for i in range(len(raw_edges)):\n",
    "    temp = raw_edges[i].split(',')\n",
    "    edge_arr[i, 0] = int(temp[0])\n",
    "    edge_arr[i, 1] = int(temp[1])"
   ]
  },
  {
   "cell_type": "code",
   "execution_count": 30,
   "metadata": {
    "collapsed": false
   },
   "outputs": [
    {
     "data": {
      "text/html": [
       "<div>\n",
       "<table border=\"1\" class=\"dataframe\">\n",
       "  <thead>\n",
       "    <tr style=\"text-align: right;\">\n",
       "      <th></th>\n",
       "      <th>Cluster ID</th>\n",
       "      <th>Id</th>\n",
       "      <th>Site name</th>\n",
       "      <th>Address</th>\n",
       "      <th>Zip</th>\n",
       "      <th>Phone</th>\n",
       "    </tr>\n",
       "  </thead>\n",
       "  <tbody>\n",
       "    <tr>\n",
       "      <th>0</th>\n",
       "      <td>0</td>\n",
       "      <td>0</td>\n",
       "      <td>salvation army - temple / salvation army</td>\n",
       "      <td>1 n ogden ave</td>\n",
       "      <td>NaN</td>\n",
       "      <td>2262649.0</td>\n",
       "    </tr>\n",
       "    <tr>\n",
       "      <th>1</th>\n",
       "      <td>0</td>\n",
       "      <td>1</td>\n",
       "      <td>salvation army - temple / salvation army</td>\n",
       "      <td>1 n ogden ave</td>\n",
       "      <td>NaN</td>\n",
       "      <td>2262649.0</td>\n",
       "    </tr>\n",
       "    <tr>\n",
       "      <th>10</th>\n",
       "      <td>1</td>\n",
       "      <td>2</td>\n",
       "      <td>national louis university - dr. effie o. ellis...</td>\n",
       "      <td>10 s kedzie ave</td>\n",
       "      <td>NaN</td>\n",
       "      <td>5339011.0</td>\n",
       "    </tr>\n",
       "    <tr>\n",
       "      <th>11</th>\n",
       "      <td>1</td>\n",
       "      <td>3</td>\n",
       "      <td>national louis university - dr. effie o. ellis...</td>\n",
       "      <td>10 s kedzie ave</td>\n",
       "      <td>NaN</td>\n",
       "      <td>5339011.0</td>\n",
       "    </tr>\n",
       "    <tr>\n",
       "      <th>20</th>\n",
       "      <td>2</td>\n",
       "      <td>4</td>\n",
       "      <td>board trustees-city colleges of chicago - oliv...</td>\n",
       "      <td>10001 s woodlawn ave</td>\n",
       "      <td>NaN</td>\n",
       "      <td>2916100.0</td>\n",
       "    </tr>\n",
       "  </tbody>\n",
       "</table>\n",
       "</div>"
      ],
      "text/plain": [
       "    Cluster ID  Id                                          Site name  \\\n",
       "0            0   0           salvation army - temple / salvation army   \n",
       "1            0   1           salvation army - temple / salvation army   \n",
       "10           1   2  national louis university - dr. effie o. ellis...   \n",
       "11           1   3  national louis university - dr. effie o. ellis...   \n",
       "20           2   4  board trustees-city colleges of chicago - oliv...   \n",
       "\n",
       "                 Address  Zip      Phone  \n",
       "0          1 n ogden ave  NaN  2262649.0  \n",
       "1          1 n ogden ave  NaN  2262649.0  \n",
       "10       10 s kedzie ave  NaN  5339011.0  \n",
       "11       10 s kedzie ave  NaN  5339011.0  \n",
       "20  10001 s woodlawn ave  NaN  2916100.0  "
      ]
     },
     "execution_count": 30,
     "metadata": {},
     "output_type": "execute_result"
    }
   ],
   "source": [
    "raw_dat = pd.read_csv('../dat/output.csv')\n",
    "node_dat = raw_dat[['Cluster ID', 'Id', 'Site name', 'Address', 'Zip', 'Phone']].sort_values(by='Id')\n",
    "node_dat.head()"
   ]
  },
  {
   "cell_type": "code",
   "execution_count": 32,
   "metadata": {
    "collapsed": false
   },
   "outputs": [
    {
     "data": {
      "text/plain": [
       "False"
      ]
     },
     "execution_count": 32,
     "metadata": {},
     "output_type": "execute_result"
    }
   ],
   "source": [
    "np.amin(node_dat['Id'] == range(node_dat.shape[0]))"
   ]
  },
  {
   "cell_type": "code",
   "execution_count": 52,
   "metadata": {
    "collapsed": false
   },
   "outputs": [],
   "source": [
    "tx = graph.begin(autocommit=False)\n",
    "\n",
    "statement = \"CREATE (n:school {name:{NAME}, address:{ADDR}, zip:{ZIP}, phone:{PHONE}})\"\n",
    "\n",
    "for i in range(10):\n",
    "    tx.run(statement, {'NAME': node_dat.iloc[i]['Site name'],\n",
    "                         'ADDR': node_dat.iloc[i]['Address'],\n",
    "                         'ZIP': node_dat.iloc[i]['Zip'],\n",
    "                         'PHONE': node_dat.iloc[i]['Phone']})\n",
    "\n",
    "tx.commit()"
   ]
  },
  {
   "cell_type": "code",
   "execution_count": 56,
   "metadata": {
    "collapsed": false
   },
   "outputs": [
    {
     "data": {
      "text/plain": [
       "[{'n': (c8d0479:school {address:\"1 n ogden ave\",name:\"salvation army - temple / salvation army\",phone:2262649.0,zip:NaN})},\n",
       " {'n': (b0adc6d:school {address:\"1 n ogden ave\",name:\"salvation army - temple / salvation army\",phone:2262649.0,zip:NaN})},\n",
       " {'n': (cf17e6b:school {address:\"10 s kedzie ave\",name:\"national louis university - dr. effie o. ellis training center\",phone:5339011.0,zip:NaN})},\n",
       " {'n': (da36bc8:school {address:\"10 s kedzie ave\",name:\"national louis university - dr. effie o. ellis training center\",phone:5339011.0,zip:NaN})},\n",
       " {'n': (f34ffa6:school {address:\"10001 s woodlawn ave\",name:\"board trustees-city colleges of chicago - olive-harvey college\",phone:2916100.0,zip:NaN})},\n",
       " {'n': (fc685e3:school {address:\"10001 s woodlawn ave\",name:\"board trustees-city colleges of chicago - olive-harvey college\",phone:2916100.0,zip:NaN})},\n",
       " {'n': (fb58dd3:school {address:\"1001 w roosevelt rd\",name:\"easter seals society of metropolitan chicago - gilchrist-marchman\",phone:9395115.0,zip:NaN})},\n",
       " {'n': (b6f3ea1:school {address:\"1001 w roosevelt rd\",name:\"easter seals society of metropolitan chicago - gilchrist-marchman\",phone:9395115.0,zip:NaN})},\n",
       " {'n': (d79e570:school {address:\"1020 w bryn mawr ave\",name:\"hull house association - uptown head start / hull house\",phone:7695753.0,zip:NaN})},\n",
       " {'n': (f40e905:school {address:\"1030 w van buren st\",name:\"hull house association - child dev. central office- hull house cds-homes\",phone:9068600.0,zip:NaN})}]"
      ]
     },
     "execution_count": 56,
     "metadata": {},
     "output_type": "execute_result"
    }
   ],
   "source": [
    "graph.data(\"MATCH (n) RETURN n;\")"
   ]
  },
  {
   "cell_type": "code",
   "execution_count": 57,
   "metadata": {
    "collapsed": false
   },
   "outputs": [],
   "source": [
    "#graph.run(\"MATCH (n) DELETE n;\")"
   ]
  },
  {
   "cell_type": "code",
   "execution_count": null,
   "metadata": {
    "collapsed": true
   },
   "outputs": [],
   "source": []
  }
 ],
 "metadata": {
  "kernelspec": {
   "display_name": "Python 3",
   "language": "python",
   "name": "python3"
  },
  "language_info": {
   "codemirror_mode": {
    "name": "ipython",
    "version": 3
   },
   "file_extension": ".py",
   "mimetype": "text/x-python",
   "name": "python",
   "nbconvert_exporter": "python",
   "pygments_lexer": "ipython3",
   "version": "3.5.2"
  }
 },
 "nbformat": 4,
 "nbformat_minor": 1
}
