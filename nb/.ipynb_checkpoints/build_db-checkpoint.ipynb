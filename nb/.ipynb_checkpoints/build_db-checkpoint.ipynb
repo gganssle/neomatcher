{
 "cells": [
  {
   "cell_type": "code",
   "execution_count": 1,
   "metadata": {
    "collapsed": false
   },
   "outputs": [],
   "source": [
    "from py2neo import Graph, Path\n",
    "import numpy as np\n",
    "import pandas as pd\n",
    "import stringdist"
   ]
  },
  {
   "cell_type": "code",
   "execution_count": 2,
   "metadata": {
    "collapsed": true
   },
   "outputs": [],
   "source": [
    "graph = Graph('http://localhost:7474/')"
   ]
  },
  {
   "cell_type": "code",
   "execution_count": 78,
   "metadata": {
    "collapsed": false
   },
   "outputs": [],
   "source": [
    "with open('../dat/output_edges.csv', 'r') as f:\n",
    "    raw_edges = f.read().splitlines()\n",
    "    \n",
    "edge_arr = np.zeros((len(raw_edges), 2))\n",
    "for i in range(len(raw_edges)):\n",
    "    temp = raw_edges[i].split(',')\n",
    "    edge_arr[i, 0] = int(temp[0])\n",
    "    edge_arr[i, 1] = int(temp[1])"
   ]
  },
  {
   "cell_type": "code",
   "execution_count": 22,
   "metadata": {
    "collapsed": false
   },
   "outputs": [
    {
     "data": {
      "text/html": [
       "<div>\n",
       "<table border=\"1\" class=\"dataframe\">\n",
       "  <thead>\n",
       "    <tr style=\"text-align: right;\">\n",
       "      <th></th>\n",
       "      <th>Cluster ID</th>\n",
       "      <th>Id</th>\n",
       "      <th>Site name</th>\n",
       "      <th>Address</th>\n",
       "      <th>Zip</th>\n",
       "      <th>Phone</th>\n",
       "    </tr>\n",
       "  </thead>\n",
       "  <tbody>\n",
       "    <tr>\n",
       "      <th>0</th>\n",
       "      <td>0</td>\n",
       "      <td>0</td>\n",
       "      <td>salvation army - temple / salvation army</td>\n",
       "      <td>1 n ogden ave</td>\n",
       "      <td>NaN</td>\n",
       "      <td>2262649.0</td>\n",
       "    </tr>\n",
       "    <tr>\n",
       "      <th>1</th>\n",
       "      <td>0</td>\n",
       "      <td>1</td>\n",
       "      <td>salvation army - temple / salvation army</td>\n",
       "      <td>1 n ogden ave</td>\n",
       "      <td>NaN</td>\n",
       "      <td>2262649.0</td>\n",
       "    </tr>\n",
       "    <tr>\n",
       "      <th>10</th>\n",
       "      <td>1</td>\n",
       "      <td>2</td>\n",
       "      <td>national louis university - dr. effie o. ellis...</td>\n",
       "      <td>10 s kedzie ave</td>\n",
       "      <td>NaN</td>\n",
       "      <td>5339011.0</td>\n",
       "    </tr>\n",
       "    <tr>\n",
       "      <th>11</th>\n",
       "      <td>1</td>\n",
       "      <td>3</td>\n",
       "      <td>national louis university - dr. effie o. ellis...</td>\n",
       "      <td>10 s kedzie ave</td>\n",
       "      <td>NaN</td>\n",
       "      <td>5339011.0</td>\n",
       "    </tr>\n",
       "    <tr>\n",
       "      <th>20</th>\n",
       "      <td>2</td>\n",
       "      <td>4</td>\n",
       "      <td>board trustees-city colleges of chicago - oliv...</td>\n",
       "      <td>10001 s woodlawn ave</td>\n",
       "      <td>NaN</td>\n",
       "      <td>2916100.0</td>\n",
       "    </tr>\n",
       "  </tbody>\n",
       "</table>\n",
       "</div>"
      ],
      "text/plain": [
       "    Cluster ID  Id                                          Site name  \\\n",
       "0            0   0           salvation army - temple / salvation army   \n",
       "1            0   1           salvation army - temple / salvation army   \n",
       "10           1   2  national louis university - dr. effie o. ellis...   \n",
       "11           1   3  national louis university - dr. effie o. ellis...   \n",
       "20           2   4  board trustees-city colleges of chicago - oliv...   \n",
       "\n",
       "                 Address  Zip      Phone  \n",
       "0          1 n ogden ave  NaN  2262649.0  \n",
       "1          1 n ogden ave  NaN  2262649.0  \n",
       "10       10 s kedzie ave  NaN  5339011.0  \n",
       "11       10 s kedzie ave  NaN  5339011.0  \n",
       "20  10001 s woodlawn ave  NaN  2916100.0  "
      ]
     },
     "execution_count": 22,
     "metadata": {},
     "output_type": "execute_result"
    }
   ],
   "source": [
    "raw_dat = pd.read_csv('../dat/output.csv')\n",
    "node_dat = raw_dat[['Cluster ID', 'Id', 'Site name', 'Address', 'Zip', 'Phone']].sort_values(by='Id')\n",
    "node_dat.head()"
   ]
  },
  {
   "cell_type": "code",
   "execution_count": 80,
   "metadata": {
    "collapsed": false
   },
   "outputs": [
    {
     "data": {
      "text/plain": [
       "False"
      ]
     },
     "execution_count": 80,
     "metadata": {},
     "output_type": "execute_result"
    }
   ],
   "source": [
    "np.amin(node_dat['Id'] == range(node_dat.shape[0]))"
   ]
  },
  {
   "cell_type": "code",
   "execution_count": 81,
   "metadata": {
    "collapsed": false
   },
   "outputs": [
    {
     "name": "stdout",
     "output_type": "stream",
     "text": [
      "CPU times: user 2.37 s, sys: 12 ms, total: 2.38 s\n",
      "Wall time: 2.67 s\n"
     ]
    }
   ],
   "source": [
    "%%time\n",
    "\n",
    "tx = graph.begin(autocommit=False)\n",
    "\n",
    "statement = \"CREATE (n:ids {school:{SCHOOLID}, cluster:{CLUSTERID}})\"\n",
    "\n",
    "for i in range(len((node_dat))):\n",
    "    tx.run(statement, {'SCHOOLID': float(node_dat.iloc[i]['Id']),\n",
    "                         'CLUSTERID': float(node_dat.iloc[i]['Cluster ID']),\n",
    "                        })\n",
    "\n",
    "tx.commit()\n",
    "\n",
    "tx = graph.begin(autocommit=False)\n",
    "\n",
    "statement = \"CREATE (n:addresses {address:{ADDR}})\"\n",
    "\n",
    "for i in node_dat['Address'].unique():\n",
    "    tx.run(statement, {'ADDR': i})\n",
    "\n",
    "tx.commit()\n",
    "\n",
    "tx = graph.begin(autocommit=False)\n",
    "\n",
    "statement = \"CREATE (n:names {name:{SCHOOLNAME}})\"\n",
    "\n",
    "for i in node_dat['Site name'].unique():\n",
    "    tx.run(statement, {'SCHOOLNAME': i})\n",
    "\n",
    "tx.commit()\n",
    "\n",
    "tx = graph.begin(autocommit=False)\n",
    "\n",
    "statement = \"CREATE (n:zipcodes {zip:{SCHOOLZIP}})\"\n",
    "\n",
    "for i in node_dat['Zip'].unique():\n",
    "    tx.run(statement, {'SCHOOLZIP': i})\n",
    "\n",
    "tx.commit()\n",
    "\n",
    "tx = graph.begin(autocommit=False)\n",
    "\n",
    "statement = \"CREATE (n:phones {phone:{SCHOOLPHONE}})\"\n",
    "\n",
    "for i in node_dat['Phone'].unique():\n",
    "    tx.run(statement, {'SCHOOLPHONE': i})\n",
    "\n",
    "tx.commit()"
   ]
  },
  {
   "cell_type": "code",
   "execution_count": 4,
   "metadata": {
    "collapsed": false
   },
   "outputs": [
    {
     "data": {
      "text/plain": [
       "[{'n': (ee286c6:ids {cluster:0.0,school:0.0})},\n",
       " {'n': (c3882d2:ids {cluster:0.0,school:1.0})},\n",
       " {'n': (cb67d58:ids {cluster:1.0,school:2.0})},\n",
       " {'n': (b770627:ids {cluster:1.0,school:3.0})},\n",
       " {'n': (dcaa8ab:ids {cluster:2.0,school:4.0})},\n",
       " {'n': (fbae017:ids {cluster:2.0,school:5.0})},\n",
       " {'n': (fdbff9d:ids {cluster:3.0,school:6.0})},\n",
       " {'n': (eec2351:ids {cluster:3.0,school:7.0})},\n",
       " {'n': (fa6cc69:ids {cluster:4.0,school:8.0})},\n",
       " {'n': (e57158a:ids {cluster:5.0,school:9.0})}]"
      ]
     },
     "execution_count": 4,
     "metadata": {},
     "output_type": "execute_result"
    }
   ],
   "source": [
    "graph.data(\"MATCH (n) RETURN n LIMIT 10;\")"
   ]
  },
  {
   "cell_type": "code",
   "execution_count": 5,
   "metadata": {
    "collapsed": false
   },
   "outputs": [
    {
     "data": {
      "text/plain": [
       "[{'n': (d4b9a00:zipcodes {zip:60608.0})}]"
      ]
     },
     "execution_count": 5,
     "metadata": {},
     "output_type": "execute_result"
    }
   ],
   "source": [
    "graph.data('MATCH (n:zipcodes {zip:60608}) RETURN n LIMIT 10')"
   ]
  },
  {
   "cell_type": "code",
   "execution_count": 84,
   "metadata": {
    "collapsed": false
   },
   "outputs": [],
   "source": [
    "#graph.run('MATCH (n) DELETE n')\n",
    "#graph.data('MATCH (n) RETURN n;')"
   ]
  },
  {
   "cell_type": "code",
   "execution_count": 85,
   "metadata": {
    "collapsed": false
   },
   "outputs": [
    {
     "name": "stdout",
     "output_type": "stream",
     "text": [
      "CPU times: user 6.96 s, sys: 80 ms, total: 7.04 s\n",
      "Wall time: 14.8 s\n"
     ]
    }
   ],
   "source": [
    "%%time\n",
    "\n",
    "tx = graph.begin(autocommit=False)\n",
    "\n",
    "statement = \"MATCH (a:ids),(b:addresses) \\\n",
    "           WHERE a.school = {ID} AND \\\n",
    "           b.addresses = {ADDR} \\\n",
    "           CREATE (a)-[r:HAS_ADDRESS]->(b) \\\n",
    "           RETURN r\"\n",
    "\n",
    "for i in range(len(node_dat)):\n",
    "    tx.run(statement, {'ID': float(node_dat.iloc[i]['Id']),\n",
    "                      'ADDR': str(node_dat.iloc[i]['Address'])})\n",
    "\n",
    "tx.commit()\n",
    "\n",
    "tx = graph.begin(autocommit=False)\n",
    "\n",
    "statement = \"MATCH (a:ids),(b:names) \\\n",
    "           WHERE a.school = {ID} AND \\\n",
    "           b.name = {NAME} \\\n",
    "           CREATE (a)-[r:HAS_NAME]->(b) \\\n",
    "           RETURN r\"\n",
    "\n",
    "for i in range(len(node_dat)):\n",
    "    tx.run(statement, {'ID': float(node_dat.iloc[i]['Id']),\n",
    "                      'NAME': str(node_dat.iloc[i]['Site name'])})\n",
    "\n",
    "tx.commit()\n",
    "\n",
    "tx = graph.begin(autocommit=False)\n",
    "\n",
    "statement = \"MATCH (a:ids),(b:zipcodes) \\\n",
    "           WHERE a.school = {ID} AND \\\n",
    "           b.zip = {ZIP} \\\n",
    "           CREATE (a)-[r:HAS_ZIP]->(b) \\\n",
    "           RETURN r\"\n",
    "\n",
    "for i in range(len(node_dat)):\n",
    "    tx.run(statement, {'ID': float(node_dat.iloc[i]['Id']),\n",
    "                      'ZIP': str(node_dat.iloc[i]['Zip'])})\n",
    "\n",
    "tx.commit()\n",
    "\n",
    "tx = graph.begin(autocommit=False)\n",
    "\n",
    "statement = \"MATCH (a:ids),(b:phones) \\\n",
    "           WHERE a.school = {ID} AND \\\n",
    "           b.phone = {PHONE} \\\n",
    "           CREATE (a)-[r:HAS_NAME]->(b) \\\n",
    "           RETURN r\"\n",
    "\n",
    "for i in range(len(node_dat)):\n",
    "    tx.run(statement, {'ID': float(node_dat.iloc[i]['Id']),\n",
    "                      'PHONE': str(node_dat.iloc[i]['Phone'])})\n",
    "\n",
    "tx.commit()"
   ]
  },
  {
   "cell_type": "code",
   "execution_count": 86,
   "metadata": {
    "collapsed": false
   },
   "outputs": [],
   "source": [
    "#graph.run('MATCH (n) DETACH DELETE n')\n",
    "#graph.data('MATCH (n) RETURN n')"
   ]
  },
  {
   "cell_type": "code",
   "execution_count": 10,
   "metadata": {
    "collapsed": false
   },
   "outputs": [
    {
     "data": {
      "text/plain": [
       "[{'a': (cb67d58:ids {cluster:1.0,school:2.0}),\n",
       "  'b': (bd59844:names {name:\"national louis university - dr. effie o. ellis training center\"})}]"
      ]
     },
     "execution_count": 10,
     "metadata": {},
     "output_type": "execute_result"
    }
   ],
   "source": [
    "graph.data('MATCH (a:ids)-[:HAS_NAME]->(b:names) \\\n",
    "            WHERE a.school = 2 \\\n",
    "            RETURN a, b')"
   ]
  },
  {
   "cell_type": "markdown",
   "metadata": {
    "collapsed": true
   },
   "source": [
    "## match exact dupes"
   ]
  },
  {
   "cell_type": "code",
   "execution_count": 3,
   "metadata": {
    "collapsed": false
   },
   "outputs": [
    {
     "data": {
      "text/plain": [
       "[{'a': (fdc36ff:ids {cluster:1.0,school:1227.0})},\n",
       " {'a': (f5b3949:ids {cluster:1.0,school:1228.0})},\n",
       " {'a': (f4643c2:ids {cluster:1.0,school:511.0})},\n",
       " {'a': (e1b9165:ids {cluster:1.0,school:512.0})},\n",
       " {'a': (b0500e9:ids {cluster:1.0,school:3.0})},\n",
       " {'a': (ac04beb:ids {cluster:1.0,school:2.0})}]"
      ]
     },
     "execution_count": 3,
     "metadata": {},
     "output_type": "execute_result"
    }
   ],
   "source": [
    "graph.data('MATCH (a:ids)-[:HAS_NAME]->(b:names) \\\n",
    "            WHERE b.name = \"national louis university - dr. effie o. ellis training center\" \\\n",
    "            RETURN a')"
   ]
  },
  {
   "cell_type": "markdown",
   "metadata": {},
   "source": [
    "Let's now calc distances to all other schools. School ID 3 HAS_NAME, HAS_ZIP, etc. Compare these property nodes to all others and calc a single distance for each school."
   ]
  },
  {
   "cell_type": "code",
   "execution_count": 23,
   "metadata": {
    "collapsed": false
   },
   "outputs": [
    {
     "data": {
      "text/html": [
       "<div>\n",
       "<table border=\"1\" class=\"dataframe\">\n",
       "  <thead>\n",
       "    <tr style=\"text-align: right;\">\n",
       "      <th></th>\n",
       "      <th>Cluster ID</th>\n",
       "      <th>Id</th>\n",
       "      <th>Site name</th>\n",
       "      <th>Address</th>\n",
       "      <th>Zip</th>\n",
       "      <th>Phone</th>\n",
       "    </tr>\n",
       "  </thead>\n",
       "  <tbody>\n",
       "    <tr>\n",
       "      <th>11</th>\n",
       "      <td>1</td>\n",
       "      <td>3</td>\n",
       "      <td>national louis university - dr. effie o. ellis...</td>\n",
       "      <td>10 s kedzie ave</td>\n",
       "      <td>NaN</td>\n",
       "      <td>5339011.0</td>\n",
       "    </tr>\n",
       "  </tbody>\n",
       "</table>\n",
       "</div>"
      ],
      "text/plain": [
       "    Cluster ID  Id                                          Site name  \\\n",
       "11           1   3  national louis university - dr. effie o. ellis...   \n",
       "\n",
       "            Address  Zip      Phone  \n",
       "11  10 s kedzie ave  NaN  5339011.0  "
      ]
     },
     "execution_count": 23,
     "metadata": {},
     "output_type": "execute_result"
    }
   ],
   "source": [
    "node_dat[node_dat['Id'] == 3]"
   ]
  },
  {
   "cell_type": "code",
   "execution_count": 35,
   "metadata": {
    "collapsed": true
   },
   "outputs": [],
   "source": [
    "diff3 = pd.DataFrame(columns=['id', 'cluster', 'name diff', 'address diff', 'zip diff', 'phone diff'])"
   ]
  },
  {
   "cell_type": "code",
   "execution_count": 36,
   "metadata": {
    "collapsed": false
   },
   "outputs": [
    {
     "data": {
      "text/html": [
       "<div>\n",
       "<table border=\"1\" class=\"dataframe\">\n",
       "  <thead>\n",
       "    <tr style=\"text-align: right;\">\n",
       "      <th></th>\n",
       "      <th>id</th>\n",
       "      <th>cluster</th>\n",
       "      <th>name diff</th>\n",
       "      <th>address diff</th>\n",
       "      <th>zip diff</th>\n",
       "      <th>phone diff</th>\n",
       "    </tr>\n",
       "  </thead>\n",
       "  <tbody>\n",
       "  </tbody>\n",
       "</table>\n",
       "</div>"
      ],
      "text/plain": [
       "Empty DataFrame\n",
       "Columns: [id, cluster, name diff, address diff, zip diff, phone diff]\n",
       "Index: []"
      ]
     },
     "execution_count": 36,
     "metadata": {},
     "output_type": "execute_result"
    }
   ],
   "source": [
    "diff3"
   ]
  },
  {
   "cell_type": "code",
   "execution_count": 64,
   "metadata": {
    "collapsed": false
   },
   "outputs": [
    {
     "ename": "TypeError",
     "evalue": "argument 1 must be str, not Series",
     "output_type": "error",
     "traceback": [
      "\u001b[0;31m---------------------------------------------------------------------------\u001b[0m",
      "\u001b[0;31mTypeError\u001b[0m                                 Traceback (most recent call last)",
      "\u001b[0;32m<ipython-input-64-eada92db0288>\u001b[0m in \u001b[0;36m<module>\u001b[0;34m()\u001b[0m\n\u001b[1;32m      8\u001b[0m     \u001b[0mrow\u001b[0m\u001b[0;34m.\u001b[0m\u001b[0mappend\u001b[0m\u001b[0;34m(\u001b[0m\u001b[0moutput\u001b[0m\u001b[0;34m[\u001b[0m\u001b[0;36m0\u001b[0m\u001b[0;34m]\u001b[0m\u001b[0;34m[\u001b[0m\u001b[0;34m'a.school'\u001b[0m\u001b[0;34m]\u001b[0m\u001b[0;34m)\u001b[0m\u001b[0;34m\u001b[0m\u001b[0m\n\u001b[1;32m      9\u001b[0m     \u001b[0mrow\u001b[0m\u001b[0;34m.\u001b[0m\u001b[0mappend\u001b[0m\u001b[0;34m(\u001b[0m\u001b[0moutput\u001b[0m\u001b[0;34m[\u001b[0m\u001b[0;36m0\u001b[0m\u001b[0;34m]\u001b[0m\u001b[0;34m[\u001b[0m\u001b[0;34m'a.cluster'\u001b[0m\u001b[0;34m]\u001b[0m\u001b[0;34m)\u001b[0m\u001b[0;34m\u001b[0m\u001b[0m\n\u001b[0;32m---> 10\u001b[0;31m     \u001b[0mrow\u001b[0m\u001b[0;34m.\u001b[0m\u001b[0mappend\u001b[0m\u001b[0;34m(\u001b[0m\u001b[0mstringdist\u001b[0m\u001b[0;34m.\u001b[0m\u001b[0mlevenshtein\u001b[0m\u001b[0;34m(\u001b[0m\u001b[0mnode_dat\u001b[0m\u001b[0;34m[\u001b[0m\u001b[0mnode_dat\u001b[0m\u001b[0;34m[\u001b[0m\u001b[0;34m'Id'\u001b[0m\u001b[0;34m]\u001b[0m \u001b[0;34m==\u001b[0m \u001b[0;36m3\u001b[0m\u001b[0;34m]\u001b[0m\u001b[0;34m[\u001b[0m\u001b[0;34m'Site name'\u001b[0m\u001b[0;34m]\u001b[0m\u001b[0;34m,\u001b[0m \u001b[0moutput\u001b[0m\u001b[0;34m[\u001b[0m\u001b[0;36m0\u001b[0m\u001b[0;34m]\u001b[0m\u001b[0;34m[\u001b[0m\u001b[0;34m'b.name'\u001b[0m\u001b[0;34m]\u001b[0m\u001b[0;34m)\u001b[0m\u001b[0;34m)\u001b[0m\u001b[0;34m\u001b[0m\u001b[0m\n\u001b[0m\u001b[1;32m     11\u001b[0m \u001b[0;34m\u001b[0m\u001b[0m\n\u001b[1;32m     12\u001b[0m     \u001b[0moutput\u001b[0m \u001b[0;34m=\u001b[0m \u001b[0mgraph\u001b[0m\u001b[0;34m.\u001b[0m\u001b[0mdata\u001b[0m\u001b[0;34m(\u001b[0m\u001b[0;34m'MATCH (a:ids)-[:HAS_ADDRESS]->(b:addresses)                         WHERE a.school = {NUMERO}                         RETURN b.address'\u001b[0m\u001b[0;34m,\u001b[0m \u001b[0;34m{\u001b[0m\u001b[0;34m'NUMERO'\u001b[0m\u001b[0;34m:\u001b[0m\u001b[0mnumero\u001b[0m\u001b[0;34m}\u001b[0m\u001b[0;34m)\u001b[0m\u001b[0;34m\u001b[0m\u001b[0m\n",
      "\u001b[0;31mTypeError\u001b[0m: argument 1 must be str, not Series"
     ]
    }
   ],
   "source": [
    "#for i in node_dat['Id'].unique():\n",
    "for i in range(10):\n",
    "    row = []\n",
    "    numero = i\n",
    "    \n",
    "    output = graph.data('MATCH (a:ids)-[:HAS_NAME]->(b:names) \\\n",
    "                        WHERE a.school = {NUMERO} \\\n",
    "                        RETURN a.school, a.cluster, b.name', {'NUMERO':numero})\n",
    "    \n",
    "    row.append(output[0]['a.school'])\n",
    "    row.append(output[0]['a.cluster'])\n",
    "    row.append(stringdist.levenshtein(node_dat[node_dat['Id'] == 3]['Site name'], output[0]['b.name']))\n",
    "    \n",
    "    output = graph.data('MATCH (a:ids)-[:HAS_ADDRESS]->(b:addresses) \\\n",
    "                        WHERE a.school = {NUMERO} \\\n",
    "                        RETURN b.address', {'NUMERO':numero})\n",
    "    \n",
    "    row.append(stringdist.levenshtein(node_dat[node_dat['Id'] == 3]['Address'], output[0]['b.address']))"
   ]
  },
  {
   "cell_type": "code",
   "execution_count": 47,
   "metadata": {
    "collapsed": false
   },
   "outputs": [
    {
     "name": "stdout",
     "output_type": "stream",
     "text": [
      "[{'b.name': 'el hogar del nino/cuidar - el hogar del nino/el centro - loomis', 'a.school': 47.0, 'a.cluster': 31.0}]\n",
      "\n",
      "\n",
      "el hogar del nino/cuidar - el hogar del nino/el centro - loomis\n",
      "school id 47.0\n",
      "cluster id 31.0\n"
     ]
    }
   ],
   "source": [
    "numero = 47\n",
    "\n",
    "output = graph.data('MATCH (a:ids)-[:HAS_NAME]->(b:names) \\\n",
    "            WHERE a.school = {NUMERO} \\\n",
    "            RETURN a.school, a.cluster, b.name', {'NUMERO': numero})\n",
    "\n",
    "print(output)\n",
    "print('\\n')\n",
    "print(output[0]['b.name'])\n",
    "print('school id', output[0]['a.school'])\n",
    "print('cluster id', output[0]['a.cluster'])"
   ]
  },
  {
   "cell_type": "code",
   "execution_count": null,
   "metadata": {
    "collapsed": true
   },
   "outputs": [],
   "source": []
  }
 ],
 "metadata": {
  "kernelspec": {
   "display_name": "Python 3",
   "language": "python",
   "name": "python3"
  },
  "language_info": {
   "codemirror_mode": {
    "name": "ipython",
    "version": 3
   },
   "file_extension": ".py",
   "mimetype": "text/x-python",
   "name": "python",
   "nbconvert_exporter": "python",
   "pygments_lexer": "ipython3",
   "version": "3.5.2"
  }
 },
 "nbformat": 4,
 "nbformat_minor": 1
}
